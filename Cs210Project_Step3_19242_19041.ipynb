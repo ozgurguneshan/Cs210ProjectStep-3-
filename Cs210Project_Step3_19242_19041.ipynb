{
 "cells": [
  {
   "cell_type": "markdown",
   "metadata": {},
   "source": [
    "Özgür Güneşhan 19242\n",
    "Ali Metehan Gencmazlumo 19041"
   ]
  },
  {
   "cell_type": "code",
   "execution_count": 3,
   "metadata": {},
   "outputs": [],
   "source": [
    "import pandas as pd\n",
    "import numpy as np\n",
    "import matplotlib.pyplot as plt\n",
    "from scipy import stats\n",
    "from datetime import datetime\n",
    "import seaborn as sns  # a visualization library based on matplotlib\n",
    "from datetime import datetime\n",
    "\n",
    "import warnings\n",
    "warnings.filterwarnings('ignore')\n",
    "\n",
    "sns.set(style=\"darkgrid\")\n",
    "\n",
    "%matplotlib inline\n",
    "\n",
    "from sklearn.model_selection import train_test_split\n",
    "from sklearn.datasets import load_iris\n",
    "from sklearn.linear_model import LogisticRegression\n",
    "from sklearn.metrics import accuracy_score, confusion_matrix\n",
    "from sklearn.preprocessing import LabelEncoder"
   ]
  },
  {
   "cell_type": "code",
   "execution_count": 4,
   "metadata": {},
   "outputs": [],
   "source": [
    "from os.path import join"
   ]
  },
  {
   "cell_type": "code",
   "execution_count": 5,
   "metadata": {},
   "outputs": [],
   "source": [
    "\n",
    "\n",
    "filename1 = 'features.csv'\n",
    "filename2 = 'train.csv'\n",
    "filename3 = 'stores.csv'\n",
    "\n",
    "df1 = pd.read_csv(filename1,sep=';')\n",
    "df2 = pd.read_csv(filename2,sep=';')\n",
    "df3 = pd.read_csv(filename3,sep=';')\n"
   ]
  },
  {
   "cell_type": "markdown",
   "metadata": {},
   "source": [
    "## Combining & Exploring different database"
   ]
  },
  {
   "cell_type": "code",
   "execution_count": 6,
   "metadata": {},
   "outputs": [
    {
     "data": {
      "text/plain": [
       "(7372, 6)"
      ]
     },
     "execution_count": 6,
     "metadata": {},
     "output_type": "execute_result"
    }
   ],
   "source": [
    "df1.shape"
   ]
  },
  {
   "cell_type": "code",
   "execution_count": 7,
   "metadata": {},
   "outputs": [
    {
     "data": {
      "text/plain": [
       "(421570, 5)"
      ]
     },
     "execution_count": 7,
     "metadata": {},
     "output_type": "execute_result"
    }
   ],
   "source": [
    "df2.shape"
   ]
  },
  {
   "cell_type": "code",
   "execution_count": 8,
   "metadata": {},
   "outputs": [
    {
     "data": {
      "text/plain": [
       "(45, 3)"
      ]
     },
     "execution_count": 8,
     "metadata": {},
     "output_type": "execute_result"
    }
   ],
   "source": [
    "df3.shape"
   ]
  },
  {
   "cell_type": "code",
   "execution_count": 9,
   "metadata": {},
   "outputs": [
    {
     "data": {
      "text/html": [
       "<div>\n",
       "<style scoped>\n",
       "    .dataframe tbody tr th:only-of-type {\n",
       "        vertical-align: middle;\n",
       "    }\n",
       "\n",
       "    .dataframe tbody tr th {\n",
       "        vertical-align: top;\n",
       "    }\n",
       "\n",
       "    .dataframe thead th {\n",
       "        text-align: right;\n",
       "    }\n",
       "</style>\n",
       "<table border=\"1\" class=\"dataframe\">\n",
       "  <thead>\n",
       "    <tr style=\"text-align: right;\">\n",
       "      <th></th>\n",
       "      <th>Store</th>\n",
       "      <th>Dept</th>\n",
       "      <th>Date</th>\n",
       "      <th>Weekly_Sales</th>\n",
       "      <th>IsHoliday</th>\n",
       "    </tr>\n",
       "  </thead>\n",
       "  <tbody>\n",
       "    <tr>\n",
       "      <th>381747</th>\n",
       "      <td>41</td>\n",
       "      <td>6</td>\n",
       "      <td>01/04/11</td>\n",
       "      <td>4331.51</td>\n",
       "      <td>False</td>\n",
       "    </tr>\n",
       "    <tr>\n",
       "      <th>151753</th>\n",
       "      <td>16</td>\n",
       "      <td>28</td>\n",
       "      <td>01/04/11</td>\n",
       "      <td>245.56</td>\n",
       "      <td>False</td>\n",
       "    </tr>\n",
       "    <tr>\n",
       "      <th>232061</th>\n",
       "      <td>24</td>\n",
       "      <td>38</td>\n",
       "      <td>01/04/11</td>\n",
       "      <td>57064.38</td>\n",
       "      <td>False</td>\n",
       "    </tr>\n",
       "  </tbody>\n",
       "</table>\n",
       "</div>"
      ],
      "text/plain": [
       "        Store  Dept      Date  Weekly_Sales  IsHoliday\n",
       "381747     41     6  01/04/11       4331.51      False\n",
       "151753     16    28  01/04/11        245.56      False\n",
       "232061     24    38  01/04/11      57064.38      False"
      ]
     },
     "execution_count": 9,
     "metadata": {},
     "output_type": "execute_result"
    }
   ],
   "source": [
    "df2.sort_values(by='Date').head(3)"
   ]
  },
  {
   "cell_type": "code",
   "execution_count": 10,
   "metadata": {},
   "outputs": [
    {
     "data": {
      "text/html": [
       "<div>\n",
       "<style scoped>\n",
       "    .dataframe tbody tr th:only-of-type {\n",
       "        vertical-align: middle;\n",
       "    }\n",
       "\n",
       "    .dataframe tbody tr th {\n",
       "        vertical-align: top;\n",
       "    }\n",
       "\n",
       "    .dataframe thead th {\n",
       "        text-align: right;\n",
       "    }\n",
       "</style>\n",
       "<table border=\"1\" class=\"dataframe\">\n",
       "  <thead>\n",
       "    <tr style=\"text-align: right;\">\n",
       "      <th></th>\n",
       "      <th>Store</th>\n",
       "      <th>Type</th>\n",
       "      <th>Size</th>\n",
       "    </tr>\n",
       "  </thead>\n",
       "  <tbody>\n",
       "    <tr>\n",
       "      <th>0</th>\n",
       "      <td>1</td>\n",
       "      <td>A</td>\n",
       "      <td>151315</td>\n",
       "    </tr>\n",
       "    <tr>\n",
       "      <th>1</th>\n",
       "      <td>2</td>\n",
       "      <td>A</td>\n",
       "      <td>202307</td>\n",
       "    </tr>\n",
       "    <tr>\n",
       "      <th>2</th>\n",
       "      <td>3</td>\n",
       "      <td>B</td>\n",
       "      <td>37392</td>\n",
       "    </tr>\n",
       "  </tbody>\n",
       "</table>\n",
       "</div>"
      ],
      "text/plain": [
       "   Store Type    Size\n",
       "0      1    A  151315\n",
       "1      2    A  202307\n",
       "2      3    B   37392"
      ]
     },
     "execution_count": 10,
     "metadata": {},
     "output_type": "execute_result"
    }
   ],
   "source": [
    "df3.head(3)"
   ]
  },
  {
   "cell_type": "code",
   "execution_count": 11,
   "metadata": {},
   "outputs": [],
   "source": [
    "Data=df1.merge(df2,how='outer', on = ['Store','Date'])"
   ]
  },
  {
   "cell_type": "code",
   "execution_count": 12,
   "metadata": {},
   "outputs": [],
   "source": [
    "Data=Data.merge(df3,how='outer',on = ['Store'])"
   ]
  },
  {
   "cell_type": "code",
   "execution_count": 13,
   "metadata": {},
   "outputs": [],
   "source": [
    "from datetime import datetime \n",
    "Data['Datetime']=pd.to_datetime(Data['Date'])\n"
   ]
  },
  {
   "cell_type": "code",
   "execution_count": 14,
   "metadata": {},
   "outputs": [
    {
     "data": {
      "text/html": [
       "<div>\n",
       "<style scoped>\n",
       "    .dataframe tbody tr th:only-of-type {\n",
       "        vertical-align: middle;\n",
       "    }\n",
       "\n",
       "    .dataframe tbody tr th {\n",
       "        vertical-align: top;\n",
       "    }\n",
       "\n",
       "    .dataframe thead th {\n",
       "        text-align: right;\n",
       "    }\n",
       "</style>\n",
       "<table border=\"1\" class=\"dataframe\">\n",
       "  <thead>\n",
       "    <tr style=\"text-align: right;\">\n",
       "      <th></th>\n",
       "      <th>Store</th>\n",
       "      <th>Date</th>\n",
       "      <th>Temperature</th>\n",
       "      <th>Fuel_Price</th>\n",
       "      <th>Unemployment</th>\n",
       "      <th>IsHoliday_x</th>\n",
       "      <th>Dept</th>\n",
       "      <th>Weekly_Sales</th>\n",
       "      <th>IsHoliday_y</th>\n",
       "      <th>Type</th>\n",
       "      <th>Size</th>\n",
       "      <th>Datetime</th>\n",
       "      <th>year</th>\n",
       "      <th>month</th>\n",
       "      <th>monthday</th>\n",
       "      <th>weekday</th>\n",
       "    </tr>\n",
       "  </thead>\n",
       "  <tbody>\n",
       "    <tr>\n",
       "      <th>0</th>\n",
       "      <td>1</td>\n",
       "      <td>19/02/10</td>\n",
       "      <td>39,93</td>\n",
       "      <td>2.514</td>\n",
       "      <td>8.106</td>\n",
       "      <td>False</td>\n",
       "      <td>1.0</td>\n",
       "      <td>41595.55</td>\n",
       "      <td>False</td>\n",
       "      <td>A</td>\n",
       "      <td>151315</td>\n",
       "      <td>2010-02-19</td>\n",
       "      <td>2010</td>\n",
       "      <td>2</td>\n",
       "      <td>19</td>\n",
       "      <td>4</td>\n",
       "    </tr>\n",
       "    <tr>\n",
       "      <th>1</th>\n",
       "      <td>1</td>\n",
       "      <td>19/02/10</td>\n",
       "      <td>39,93</td>\n",
       "      <td>2.514</td>\n",
       "      <td>8.106</td>\n",
       "      <td>False</td>\n",
       "      <td>2.0</td>\n",
       "      <td>47928.89</td>\n",
       "      <td>False</td>\n",
       "      <td>A</td>\n",
       "      <td>151315</td>\n",
       "      <td>2010-02-19</td>\n",
       "      <td>2010</td>\n",
       "      <td>2</td>\n",
       "      <td>19</td>\n",
       "      <td>4</td>\n",
       "    </tr>\n",
       "    <tr>\n",
       "      <th>2</th>\n",
       "      <td>1</td>\n",
       "      <td>19/02/10</td>\n",
       "      <td>39,93</td>\n",
       "      <td>2.514</td>\n",
       "      <td>8.106</td>\n",
       "      <td>False</td>\n",
       "      <td>3.0</td>\n",
       "      <td>11523.47</td>\n",
       "      <td>False</td>\n",
       "      <td>A</td>\n",
       "      <td>151315</td>\n",
       "      <td>2010-02-19</td>\n",
       "      <td>2010</td>\n",
       "      <td>2</td>\n",
       "      <td>19</td>\n",
       "      <td>4</td>\n",
       "    </tr>\n",
       "    <tr>\n",
       "      <th>3</th>\n",
       "      <td>1</td>\n",
       "      <td>19/02/10</td>\n",
       "      <td>39,93</td>\n",
       "      <td>2.514</td>\n",
       "      <td>8.106</td>\n",
       "      <td>False</td>\n",
       "      <td>4.0</td>\n",
       "      <td>36826.95</td>\n",
       "      <td>False</td>\n",
       "      <td>A</td>\n",
       "      <td>151315</td>\n",
       "      <td>2010-02-19</td>\n",
       "      <td>2010</td>\n",
       "      <td>2</td>\n",
       "      <td>19</td>\n",
       "      <td>4</td>\n",
       "    </tr>\n",
       "    <tr>\n",
       "      <th>4</th>\n",
       "      <td>1</td>\n",
       "      <td>19/02/10</td>\n",
       "      <td>39,93</td>\n",
       "      <td>2.514</td>\n",
       "      <td>8.106</td>\n",
       "      <td>False</td>\n",
       "      <td>5.0</td>\n",
       "      <td>26468.27</td>\n",
       "      <td>False</td>\n",
       "      <td>A</td>\n",
       "      <td>151315</td>\n",
       "      <td>2010-02-19</td>\n",
       "      <td>2010</td>\n",
       "      <td>2</td>\n",
       "      <td>19</td>\n",
       "      <td>4</td>\n",
       "    </tr>\n",
       "    <tr>\n",
       "      <th>5</th>\n",
       "      <td>1</td>\n",
       "      <td>19/02/10</td>\n",
       "      <td>39,93</td>\n",
       "      <td>2.514</td>\n",
       "      <td>8.106</td>\n",
       "      <td>False</td>\n",
       "      <td>6.0</td>\n",
       "      <td>6060.26</td>\n",
       "      <td>False</td>\n",
       "      <td>A</td>\n",
       "      <td>151315</td>\n",
       "      <td>2010-02-19</td>\n",
       "      <td>2010</td>\n",
       "      <td>2</td>\n",
       "      <td>19</td>\n",
       "      <td>4</td>\n",
       "    </tr>\n",
       "    <tr>\n",
       "      <th>6</th>\n",
       "      <td>1</td>\n",
       "      <td>19/02/10</td>\n",
       "      <td>39,93</td>\n",
       "      <td>2.514</td>\n",
       "      <td>8.106</td>\n",
       "      <td>False</td>\n",
       "      <td>7.0</td>\n",
       "      <td>19985.20</td>\n",
       "      <td>False</td>\n",
       "      <td>A</td>\n",
       "      <td>151315</td>\n",
       "      <td>2010-02-19</td>\n",
       "      <td>2010</td>\n",
       "      <td>2</td>\n",
       "      <td>19</td>\n",
       "      <td>4</td>\n",
       "    </tr>\n",
       "    <tr>\n",
       "      <th>7</th>\n",
       "      <td>1</td>\n",
       "      <td>19/02/10</td>\n",
       "      <td>39,93</td>\n",
       "      <td>2.514</td>\n",
       "      <td>8.106</td>\n",
       "      <td>False</td>\n",
       "      <td>8.0</td>\n",
       "      <td>38717.60</td>\n",
       "      <td>False</td>\n",
       "      <td>A</td>\n",
       "      <td>151315</td>\n",
       "      <td>2010-02-19</td>\n",
       "      <td>2010</td>\n",
       "      <td>2</td>\n",
       "      <td>19</td>\n",
       "      <td>4</td>\n",
       "    </tr>\n",
       "    <tr>\n",
       "      <th>8</th>\n",
       "      <td>1</td>\n",
       "      <td>19/02/10</td>\n",
       "      <td>39,93</td>\n",
       "      <td>2.514</td>\n",
       "      <td>8.106</td>\n",
       "      <td>False</td>\n",
       "      <td>9.0</td>\n",
       "      <td>15880.85</td>\n",
       "      <td>False</td>\n",
       "      <td>A</td>\n",
       "      <td>151315</td>\n",
       "      <td>2010-02-19</td>\n",
       "      <td>2010</td>\n",
       "      <td>2</td>\n",
       "      <td>19</td>\n",
       "      <td>4</td>\n",
       "    </tr>\n",
       "    <tr>\n",
       "      <th>9</th>\n",
       "      <td>1</td>\n",
       "      <td>19/02/10</td>\n",
       "      <td>39,93</td>\n",
       "      <td>2.514</td>\n",
       "      <td>8.106</td>\n",
       "      <td>False</td>\n",
       "      <td>10.0</td>\n",
       "      <td>29634.13</td>\n",
       "      <td>False</td>\n",
       "      <td>A</td>\n",
       "      <td>151315</td>\n",
       "      <td>2010-02-19</td>\n",
       "      <td>2010</td>\n",
       "      <td>2</td>\n",
       "      <td>19</td>\n",
       "      <td>4</td>\n",
       "    </tr>\n",
       "  </tbody>\n",
       "</table>\n",
       "</div>"
      ],
      "text/plain": [
       "   Store      Date Temperature  Fuel_Price  Unemployment IsHoliday_x  Dept  \\\n",
       "0      1  19/02/10       39,93       2.514         8.106       False   1.0   \n",
       "1      1  19/02/10       39,93       2.514         8.106       False   2.0   \n",
       "2      1  19/02/10       39,93       2.514         8.106       False   3.0   \n",
       "3      1  19/02/10       39,93       2.514         8.106       False   4.0   \n",
       "4      1  19/02/10       39,93       2.514         8.106       False   5.0   \n",
       "5      1  19/02/10       39,93       2.514         8.106       False   6.0   \n",
       "6      1  19/02/10       39,93       2.514         8.106       False   7.0   \n",
       "7      1  19/02/10       39,93       2.514         8.106       False   8.0   \n",
       "8      1  19/02/10       39,93       2.514         8.106       False   9.0   \n",
       "9      1  19/02/10       39,93       2.514         8.106       False  10.0   \n",
       "\n",
       "   Weekly_Sales IsHoliday_y Type    Size   Datetime  year  month  monthday  \\\n",
       "0      41595.55       False    A  151315 2010-02-19  2010      2        19   \n",
       "1      47928.89       False    A  151315 2010-02-19  2010      2        19   \n",
       "2      11523.47       False    A  151315 2010-02-19  2010      2        19   \n",
       "3      36826.95       False    A  151315 2010-02-19  2010      2        19   \n",
       "4      26468.27       False    A  151315 2010-02-19  2010      2        19   \n",
       "5       6060.26       False    A  151315 2010-02-19  2010      2        19   \n",
       "6      19985.20       False    A  151315 2010-02-19  2010      2        19   \n",
       "7      38717.60       False    A  151315 2010-02-19  2010      2        19   \n",
       "8      15880.85       False    A  151315 2010-02-19  2010      2        19   \n",
       "9      29634.13       False    A  151315 2010-02-19  2010      2        19   \n",
       "\n",
       "   weekday  \n",
       "0        4  \n",
       "1        4  \n",
       "2        4  \n",
       "3        4  \n",
       "4        4  \n",
       "5        4  \n",
       "6        4  \n",
       "7        4  \n",
       "8        4  \n",
       "9        4  "
      ]
     },
     "execution_count": 14,
     "metadata": {},
     "output_type": "execute_result"
    }
   ],
   "source": [
    "Data['year']=Data['Datetime'].dt.year\n",
    "Data['month']=Data['Datetime'].dt.month\n",
    "Data['monthday']=Data['Datetime'].dt.day\n",
    "Data['weekday']=Data['Datetime'].dt.weekday\n",
    "Data.head(10)\n"
   ]
  },
  {
   "cell_type": "code",
   "execution_count": 15,
   "metadata": {},
   "outputs": [
    {
     "data": {
      "text/html": [
       "<div>\n",
       "<style scoped>\n",
       "    .dataframe tbody tr th:only-of-type {\n",
       "        vertical-align: middle;\n",
       "    }\n",
       "\n",
       "    .dataframe tbody tr th {\n",
       "        vertical-align: top;\n",
       "    }\n",
       "\n",
       "    .dataframe thead th {\n",
       "        text-align: right;\n",
       "    }\n",
       "</style>\n",
       "<table border=\"1\" class=\"dataframe\">\n",
       "  <thead>\n",
       "    <tr style=\"text-align: right;\">\n",
       "      <th></th>\n",
       "      <th>Store</th>\n",
       "      <th>Fuel_Price</th>\n",
       "      <th>Unemployment</th>\n",
       "      <th>Dept</th>\n",
       "      <th>Weekly_Sales</th>\n",
       "      <th>Size</th>\n",
       "      <th>year</th>\n",
       "      <th>month</th>\n",
       "      <th>monthday</th>\n",
       "      <th>weekday</th>\n",
       "    </tr>\n",
       "  </thead>\n",
       "  <tbody>\n",
       "    <tr>\n",
       "      <th>count</th>\n",
       "      <td>423193.000000</td>\n",
       "      <td>378159.000000</td>\n",
       "      <td>377634.000000</td>\n",
       "      <td>421570.000000</td>\n",
       "      <td>421570.000000</td>\n",
       "      <td>423193.000000</td>\n",
       "      <td>423193.000000</td>\n",
       "      <td>423193.000000</td>\n",
       "      <td>423193.000000</td>\n",
       "      <td>423193.000000</td>\n",
       "    </tr>\n",
       "    <tr>\n",
       "      <th>mean</th>\n",
       "      <td>22.203401</td>\n",
       "      <td>3.368936</td>\n",
       "      <td>14.181528</td>\n",
       "      <td>44.260317</td>\n",
       "      <td>15981.258123</td>\n",
       "      <td>136702.053482</td>\n",
       "      <td>2010.975510</td>\n",
       "      <td>6.477555</td>\n",
       "      <td>15.641270</td>\n",
       "      <td>3.572134</td>\n",
       "    </tr>\n",
       "    <tr>\n",
       "      <th>std</th>\n",
       "      <td>12.786392</td>\n",
       "      <td>0.460079</td>\n",
       "      <td>222.916603</td>\n",
       "      <td>30.492054</td>\n",
       "      <td>22711.183519</td>\n",
       "      <td>60990.805721</td>\n",
       "      <td>0.803544</td>\n",
       "      <td>3.325971</td>\n",
       "      <td>8.755914</td>\n",
       "      <td>1.426931</td>\n",
       "    </tr>\n",
       "    <tr>\n",
       "      <th>min</th>\n",
       "      <td>1.000000</td>\n",
       "      <td>2.514000</td>\n",
       "      <td>3.684000</td>\n",
       "      <td>1.000000</td>\n",
       "      <td>-4988.940000</td>\n",
       "      <td>34875.000000</td>\n",
       "      <td>2010.000000</td>\n",
       "      <td>1.000000</td>\n",
       "      <td>1.000000</td>\n",
       "      <td>0.000000</td>\n",
       "    </tr>\n",
       "    <tr>\n",
       "      <th>25%</th>\n",
       "      <td>11.000000</td>\n",
       "      <td>2.938000</td>\n",
       "      <td>6.891000</td>\n",
       "      <td>18.000000</td>\n",
       "      <td>2079.650000</td>\n",
       "      <td>93638.000000</td>\n",
       "      <td>2010.000000</td>\n",
       "      <td>4.000000</td>\n",
       "      <td>8.000000</td>\n",
       "      <td>4.000000</td>\n",
       "    </tr>\n",
       "    <tr>\n",
       "      <th>50%</th>\n",
       "      <td>22.000000</td>\n",
       "      <td>3.459000</td>\n",
       "      <td>7.866000</td>\n",
       "      <td>37.000000</td>\n",
       "      <td>7612.030000</td>\n",
       "      <td>140167.000000</td>\n",
       "      <td>2011.000000</td>\n",
       "      <td>6.000000</td>\n",
       "      <td>16.000000</td>\n",
       "      <td>4.000000</td>\n",
       "    </tr>\n",
       "    <tr>\n",
       "      <th>75%</th>\n",
       "      <td>33.000000</td>\n",
       "      <td>3.743000</td>\n",
       "      <td>8.567000</td>\n",
       "      <td>74.000000</td>\n",
       "      <td>20205.852500</td>\n",
       "      <td>202505.000000</td>\n",
       "      <td>2012.000000</td>\n",
       "      <td>9.000000</td>\n",
       "      <td>23.000000</td>\n",
       "      <td>4.000000</td>\n",
       "    </tr>\n",
       "    <tr>\n",
       "      <th>max</th>\n",
       "      <td>45.000000</td>\n",
       "      <td>4.468000</td>\n",
       "      <td>8000.000000</td>\n",
       "      <td>99.000000</td>\n",
       "      <td>693099.360000</td>\n",
       "      <td>219622.000000</td>\n",
       "      <td>2013.000000</td>\n",
       "      <td>12.000000</td>\n",
       "      <td>31.000000</td>\n",
       "      <td>6.000000</td>\n",
       "    </tr>\n",
       "  </tbody>\n",
       "</table>\n",
       "</div>"
      ],
      "text/plain": [
       "               Store     Fuel_Price   Unemployment           Dept  \\\n",
       "count  423193.000000  378159.000000  377634.000000  421570.000000   \n",
       "mean       22.203401       3.368936      14.181528      44.260317   \n",
       "std        12.786392       0.460079     222.916603      30.492054   \n",
       "min         1.000000       2.514000       3.684000       1.000000   \n",
       "25%        11.000000       2.938000       6.891000      18.000000   \n",
       "50%        22.000000       3.459000       7.866000      37.000000   \n",
       "75%        33.000000       3.743000       8.567000      74.000000   \n",
       "max        45.000000       4.468000    8000.000000      99.000000   \n",
       "\n",
       "        Weekly_Sales           Size           year          month  \\\n",
       "count  421570.000000  423193.000000  423193.000000  423193.000000   \n",
       "mean    15981.258123  136702.053482    2010.975510       6.477555   \n",
       "std     22711.183519   60990.805721       0.803544       3.325971   \n",
       "min     -4988.940000   34875.000000    2010.000000       1.000000   \n",
       "25%      2079.650000   93638.000000    2010.000000       4.000000   \n",
       "50%      7612.030000  140167.000000    2011.000000       6.000000   \n",
       "75%     20205.852500  202505.000000    2012.000000       9.000000   \n",
       "max    693099.360000  219622.000000    2013.000000      12.000000   \n",
       "\n",
       "            monthday        weekday  \n",
       "count  423193.000000  423193.000000  \n",
       "mean       15.641270       3.572134  \n",
       "std         8.755914       1.426931  \n",
       "min         1.000000       0.000000  \n",
       "25%         8.000000       4.000000  \n",
       "50%        16.000000       4.000000  \n",
       "75%        23.000000       4.000000  \n",
       "max        31.000000       6.000000  "
      ]
     },
     "execution_count": 15,
     "metadata": {},
     "output_type": "execute_result"
    }
   ],
   "source": [
    "Data.describe()"
   ]
  },
  {
   "cell_type": "code",
   "execution_count": 16,
   "metadata": {},
   "outputs": [],
   "source": [
    "def scatter(Data, column):\n",
    "    plt.figure()\n",
    "    plt.scatter(Data[column] , Data['Weekly_Sales'])\n",
    "    plt.ylabel('Weekly_Sales')\n",
    "    plt.xlabel(column)"
   ]
  },
  {
   "cell_type": "code",
   "execution_count": 17,
   "metadata": {},
   "outputs": [
    {
     "data": {
      "image/png": "[encoded data removed]",
      "text/plain": [
       "<Figure size 432x288 with 1 Axes>"
      ]
     },
     "metadata": {},
     "output_type": "display_data"
    },
    {
     "data": {
      "image/png": "[encoded data removed]",
      "text/plain": [
       "<Figure size 432x288 with 1 Axes>"
      ]
     },
     "metadata": {},
     "output_type": "display_data"
    },
    {
     "data": {
      "image/png": "[encoded data removed]",
      "text/plain": [
       "<Figure size 432x288 with 1 Axes>"
      ]
     },
     "metadata": {},
     "output_type": "display_data"
    },
    {
     "data": {
      "image/png": "[encoded data removed]",
      "text/plain": [
       "<Figure size 432x288 with 1 Axes>"
      ]
     },
     "metadata": {},
     "output_type": "display_data"
    },
    {
     "data": {
      "image/png": "[encoded data removed]",
      "text/plain": [
       "<Figure size 432x288 with 1 Axes>"
      ]
     },
     "metadata": {},
     "output_type": "display_data"
    },
    {
     "data": {
      "image/png": "[encoded data removed]",
      "text/plain": [
       "<Figure size 432x288 with 1 Axes>"
      ]
     },
     "metadata": {},
     "output_type": "display_data"
    },
    {
     "data": {
      "image/png": "[encoded data removed]",
      "text/plain": [
       "<Figure size 432x288 with 1 Axes>"
      ]
     },
     "metadata": {},
     "output_type": "display_data"
    }
   ],
   "source": [
    "scatter(Data, 'Fuel_Price')\n",
    "scatter(Data, 'Unemployment')\n",
    "scatter(Data, 'Dept')\n",
    "scatter(Data, 'Size')\n",
    "scatter(Data, 'year')\n",
    "scatter(Data, 'weekday')\n",
    "scatter(Data, 'Store')\n",
    "\n",
    "\n"
   ]
  },
  {
   "cell_type": "code",
   "execution_count": 18,
   "metadata": {},
   "outputs": [
    {
     "name": "stdout",
     "output_type": "stream",
     "text": [
      "Structure of Data:\n",
      " (423193, 16) \n",
      "\n",
      "Number of missing values:\n",
      " Unemployment    45559\n",
      "IsHoliday_x     45034\n",
      "Fuel_Price      45034\n",
      "Temperature     45034\n",
      "IsHoliday_y      1623\n",
      "Weekly_Sales     1623\n",
      "Dept             1623\n",
      "weekday             0\n",
      "monthday            0\n",
      "month               0\n",
      "year                0\n",
      "Datetime            0\n",
      "Size                0\n",
      "Type                0\n",
      "Date                0\n",
      "Store               0\n",
      "dtype: int64 \n",
      "\n"
     ]
    }
   ],
   "source": [
    "\n",
    "print(\"Structure of Data:\\n\",Data.shape, \"\\n\")\n",
    "print(\"Number of missing values:\\n\",Data.isnull().sum().sort_values(ascending=False),\"\\n\")"
   ]
  },
  {
   "cell_type": "code",
   "execution_count": 19,
   "metadata": {},
   "outputs": [
    {
     "data": {
      "text/html": [
       "<div>\n",
       "<style scoped>\n",
       "    .dataframe tbody tr th:only-of-type {\n",
       "        vertical-align: middle;\n",
       "    }\n",
       "\n",
       "    .dataframe tbody tr th {\n",
       "        vertical-align: top;\n",
       "    }\n",
       "\n",
       "    .dataframe thead th {\n",
       "        text-align: right;\n",
       "    }\n",
       "</style>\n",
       "<table border=\"1\" class=\"dataframe\">\n",
       "  <thead>\n",
       "    <tr style=\"text-align: right;\">\n",
       "      <th></th>\n",
       "      <th>Percent_missing</th>\n",
       "      <th>Datatypes</th>\n",
       "    </tr>\n",
       "  </thead>\n",
       "  <tbody>\n",
       "    <tr>\n",
       "      <th>Store</th>\n",
       "      <td>0.00</td>\n",
       "      <td>int64</td>\n",
       "    </tr>\n",
       "    <tr>\n",
       "      <th>Date</th>\n",
       "      <td>0.00</td>\n",
       "      <td>object</td>\n",
       "    </tr>\n",
       "    <tr>\n",
       "      <th>Temperature</th>\n",
       "      <td>10.64</td>\n",
       "      <td>object</td>\n",
       "    </tr>\n",
       "    <tr>\n",
       "      <th>Fuel_Price</th>\n",
       "      <td>10.64</td>\n",
       "      <td>float64</td>\n",
       "    </tr>\n",
       "    <tr>\n",
       "      <th>Unemployment</th>\n",
       "      <td>10.77</td>\n",
       "      <td>float64</td>\n",
       "    </tr>\n",
       "    <tr>\n",
       "      <th>IsHoliday_x</th>\n",
       "      <td>10.64</td>\n",
       "      <td>object</td>\n",
       "    </tr>\n",
       "    <tr>\n",
       "      <th>Dept</th>\n",
       "      <td>0.38</td>\n",
       "      <td>float64</td>\n",
       "    </tr>\n",
       "    <tr>\n",
       "      <th>Weekly_Sales</th>\n",
       "      <td>0.38</td>\n",
       "      <td>float64</td>\n",
       "    </tr>\n",
       "    <tr>\n",
       "      <th>IsHoliday_y</th>\n",
       "      <td>0.38</td>\n",
       "      <td>object</td>\n",
       "    </tr>\n",
       "    <tr>\n",
       "      <th>Type</th>\n",
       "      <td>0.00</td>\n",
       "      <td>object</td>\n",
       "    </tr>\n",
       "    <tr>\n",
       "      <th>Size</th>\n",
       "      <td>0.00</td>\n",
       "      <td>int64</td>\n",
       "    </tr>\n",
       "    <tr>\n",
       "      <th>Datetime</th>\n",
       "      <td>0.00</td>\n",
       "      <td>datetime64[ns]</td>\n",
       "    </tr>\n",
       "    <tr>\n",
       "      <th>year</th>\n",
       "      <td>0.00</td>\n",
       "      <td>int64</td>\n",
       "    </tr>\n",
       "    <tr>\n",
       "      <th>month</th>\n",
       "      <td>0.00</td>\n",
       "      <td>int64</td>\n",
       "    </tr>\n",
       "    <tr>\n",
       "      <th>monthday</th>\n",
       "      <td>0.00</td>\n",
       "      <td>int64</td>\n",
       "    </tr>\n",
       "    <tr>\n",
       "      <th>weekday</th>\n",
       "      <td>0.00</td>\n",
       "      <td>int64</td>\n",
       "    </tr>\n",
       "  </tbody>\n",
       "</table>\n",
       "</div>"
      ],
      "text/plain": [
       "              Percent_missing       Datatypes\n",
       "Store                    0.00           int64\n",
       "Date                     0.00          object\n",
       "Temperature             10.64          object\n",
       "Fuel_Price              10.64         float64\n",
       "Unemployment            10.77         float64\n",
       "IsHoliday_x             10.64          object\n",
       "Dept                     0.38         float64\n",
       "Weekly_Sales             0.38         float64\n",
       "IsHoliday_y              0.38          object\n",
       "Type                     0.00          object\n",
       "Size                     0.00           int64\n",
       "Datetime                 0.00  datetime64[ns]\n",
       "year                     0.00           int64\n",
       "month                    0.00           int64\n",
       "monthday                 0.00           int64\n",
       "weekday                  0.00           int64"
      ]
     },
     "execution_count": 19,
     "metadata": {},
     "output_type": "execute_result"
    }
   ],
   "source": [
    "Data_percent_missing = Data.isnull().sum()*100/len(Data)\n",
    "data_type = Data.dtypes\n",
    "\n",
    "data_summary = pd.DataFrame({\"Percent_missing\": Data_percent_missing.round(2), \n",
    "                               \"Datatypes\": data_type})\n",
    "\n",
    "data_summary"
   ]
  },
  {
   "cell_type": "markdown",
   "metadata": {},
   "source": [
    "\n",
    "In final we have 16 feature. 5 of them is for date time. 5 of them is continius values, 5 of them is categorical (nominal), \n"
   ]
  },
  {
   "cell_type": "code",
   "execution_count": 20,
   "metadata": {},
   "outputs": [
    {
     "data": {
      "text/plain": [
       "array([ 2, 12, 10,  5,  3,  9,  1,  7,  8,  6, 11,  4])"
      ]
     },
     "execution_count": 20,
     "metadata": {},
     "output_type": "execute_result"
    }
   ],
   "source": [
    "Data['month'].unique()"
   ]
  },
  {
   "cell_type": "markdown",
   "metadata": {},
   "source": [
    "##  Build Hypothesis Test"
   ]
  },
  {
   "cell_type": "markdown",
   "metadata": {},
   "source": [
    "Our first hypothesis is weekly sales are changes according to the different months. Then, \n",
    "h0 = Months did not affect weekly sales\n",
    "h1= Months affect week sales\n",
    "We are going to apply anova and if p value is going to be less than .05 we are going to reject null hypothesis.\n"
   ]
  },
  {
   "cell_type": "code",
   "execution_count": 21,
   "metadata": {},
   "outputs": [],
   "source": [
    "Sample1=Data[Data['month']==1]['Weekly_Sales']\n",
    "Sample2=Data[Data['month']==2]['Weekly_Sales']\n",
    "Sample3=Data[Data['month']==3]['Weekly_Sales']\n",
    "Sample4=Data[Data['month']==4]['Weekly_Sales']\n",
    "Sample5=Data[Data['month']==5]['Weekly_Sales']\n",
    "Sample6=Data[Data['month']==6]['Weekly_Sales']\n",
    "Sample7=Data[Data['month']==7]['Weekly_Sales']\n",
    "Sample8=Data[Data['month']==8]['Weekly_Sales']\n",
    "Sample9=Data[Data['month']==9]['Weekly_Sales']\n",
    "Sample10=Data[Data['month']==10]['Weekly_Sales']\n",
    "Sample11=Data[Data['month']==11]['Weekly_Sales']\n",
    "Sample12=Data[Data['month']==12]['Weekly_Sales']\n",
    "Sample1=Sample1.fillna(Sample1.mean())\n",
    "Sample2=Sample2.fillna(Sample2.mean())\n",
    "Sample3=Sample3.fillna(Sample3.mean())\n",
    "Sample4=Sample4.fillna(Sample4.mean())\n",
    "Sample5=Sample5.fillna(Sample5.mean())\n",
    "Sample6=Sample6.fillna(Sample6.mean())\n",
    "Sample7=Sample7.fillna(Sample7.mean())\n",
    "Sample8=Sample8.fillna(Sample8.mean())\n",
    "Sample9=Sample9.fillna(Sample9.mean())\n",
    "Sample10=Sample10.fillna(Sample10.mean())\n",
    "Sample11=Sample11.fillna(Sample11.mean())\n",
    "Sample12=Sample12.fillna(Sample12.mean())"
   ]
  },
  {
   "cell_type": "code",
   "execution_count": 22,
   "metadata": {},
   "outputs": [
    {
     "data": {
      "image/png": "[encoded data removed]",
      "text/plain": [
       "<Figure size 720x504 with 1 Axes>"
      ]
     },
     "metadata": {},
     "output_type": "display_data"
    }
   ],
   "source": [
    "fig, ax = plt.subplots(1,1, figsize=(10,7))\n",
    "\n",
    "sns.kdeplot(Sample1, shade=True, ax=ax, label=\"January\")\n",
    "sns.kdeplot(Sample2, shade=True, ax=ax, label=\"February\")\n",
    "sns.kdeplot(Sample3, shade=True, ax=ax, label=\"Marc\")\n",
    "sns.kdeplot(Sample4, shade=True, ax=ax, label=\"April\")\n",
    "sns.kdeplot(Sample5, shade=True, ax=ax, label=\"May\")\n",
    "sns.kdeplot(Sample6, shade=True, ax=ax, label=\"June\")\n",
    "sns.kdeplot(Sample7, shade=True, ax=ax, label=\"July\")\n",
    "sns.kdeplot(Sample8, shade=True, ax=ax, label=\"August\")\n",
    "sns.kdeplot(Sample9, shade=True, ax=ax, label=\"September\")\n",
    "sns.kdeplot(Sample10, shade=True, ax=ax, label=\"October\")\n",
    "sns.kdeplot(Sample11, shade=True, ax=ax, label=\"November\")\n",
    "sns.kdeplot(Sample12, shade=True, ax=ax, label=\"December\")\n",
    "plt.xlim(0,100000)\n",
    "plt.title(\"Sale Distribution by months\")\n",
    "plt.show()"
   ]
  },
  {
   "cell_type": "code",
   "execution_count": 23,
   "metadata": {},
   "outputs": [
    {
     "data": {
      "text/plain": [
       "F_onewayResult(statistic=58.135553394144466, pvalue=6.267078551449746e-130)"
      ]
     },
     "execution_count": 23,
     "metadata": {},
     "output_type": "execute_result"
    }
   ],
   "source": [
    "stats.f_oneway(Sample1, Sample2, Sample3,Sample4,Sample5,Sample6,Sample7,Sample8,Sample9,Sample10,Sample11,Sample12)"
   ]
  },
  {
   "cell_type": "markdown",
   "metadata": {},
   "source": [
    "As conclude, we can reject the null hypothesis and say that month is one of the factor that changes weekly sales."
   ]
  },
  {
   "cell_type": "code",
   "execution_count": 24,
   "metadata": {},
   "outputs": [],
   "source": [
    "# Importing the necessary modules for Linear Regression\n",
    "from sklearn import linear_model\n",
    "lr = linear_model.LinearRegression()"
   ]
  },
  {
   "cell_type": "markdown",
   "metadata": {},
   "source": [
    "# Extracting Null Values"
   ]
  },
  {
   "cell_type": "code",
   "execution_count": 25,
   "metadata": {},
   "outputs": [],
   "source": [
    "data2 =Data.dropna()"
   ]
  },
  {
   "cell_type": "code",
   "execution_count": 26,
   "metadata": {},
   "outputs": [
    {
     "data": {
      "text/plain": [
       "Store                    int64\n",
       "Date                    object\n",
       "Temperature             object\n",
       "Fuel_Price             float64\n",
       "Unemployment           float64\n",
       "IsHoliday_x             object\n",
       "Dept                   float64\n",
       "Weekly_Sales           float64\n",
       "IsHoliday_y             object\n",
       "Type                    object\n",
       "Size                     int64\n",
       "Datetime        datetime64[ns]\n",
       "year                     int64\n",
       "month                    int64\n",
       "monthday                 int64\n",
       "weekday                  int64\n",
       "dtype: object"
      ]
     },
     "execution_count": 26,
     "metadata": {},
     "output_type": "execute_result"
    }
   ],
   "source": [
    "data2.dtypes"
   ]
  },
  {
   "cell_type": "code",
   "execution_count": 27,
   "metadata": {},
   "outputs": [],
   "source": [
    "X = data2[['Fuel_Price','Unemployment','Size']]\n",
    "\n",
    "y= data2[['Weekly_Sales']]"
   ]
  },
  {
   "cell_type": "code",
   "execution_count": 28,
   "metadata": {},
   "outputs": [],
   "source": [
    "from sklearn.model_selection import train_test_split\n"
   ]
  },
  {
   "cell_type": "code",
   "execution_count": 29,
   "metadata": {},
   "outputs": [],
   "source": [
    "X_train, X_test, y_train, y_test = train_test_split(X, y, test_size=0.4, random_state=101)"
   ]
  },
  {
   "cell_type": "code",
   "execution_count": 30,
   "metadata": {},
   "outputs": [
    {
     "data": {
      "text/plain": [
       "LinearRegression(copy_X=True, fit_intercept=True, n_jobs=1, normalize=False)"
      ]
     },
     "execution_count": 30,
     "metadata": {},
     "output_type": "execute_result"
    }
   ],
   "source": [
    "from sklearn.linear_model import LinearRegression\n",
    "lm = LinearRegression()\n",
    "lm.fit(X_train,y_train)"
   ]
  },
  {
   "cell_type": "code",
   "execution_count": 31,
   "metadata": {},
   "outputs": [
    {
     "data": {
      "text/plain": [
       "array([[-1.77030647e+02,  4.55715602e-02,  9.11597531e-02]])"
      ]
     },
     "execution_count": 31,
     "metadata": {},
     "output_type": "execute_result"
    }
   ],
   "source": [
    "lm.coef_"
   ]
  },
  {
   "cell_type": "code",
   "execution_count": 32,
   "metadata": {},
   "outputs": [
    {
     "data": {
      "text/plain": [
       "array([4093.16266403])"
      ]
     },
     "execution_count": 32,
     "metadata": {},
     "output_type": "execute_result"
    }
   ],
   "source": [
    "lm.intercept_\n"
   ]
  },
  {
   "cell_type": "code",
   "execution_count": 33,
   "metadata": {},
   "outputs": [
    {
     "name": "stdout",
     "output_type": "stream",
     "text": [
      "The coefficient for Fuel_Price is -177.0306470050905\n",
      "The coefficient for Unemployment is 0.0455715602093236\n",
      "The coefficient for Size is 0.09115975314218039\n"
     ]
    }
   ],
   "source": [
    "for index, col_name in enumerate(X_train.columns):\n",
    "    print(\"The coefficient for {} is {}\".format(col_name, lm.coef_[0][index]))"
   ]
  },
  {
   "cell_type": "code",
   "execution_count": 34,
   "metadata": {},
   "outputs": [
    {
     "data": {
      "text/plain": [
       "0.05941350341809082"
      ]
     },
     "execution_count": 34,
     "metadata": {},
     "output_type": "execute_result"
    }
   ],
   "source": [
    "lm.score(X_test, y_test)"
   ]
  },
  {
   "cell_type": "code",
   "execution_count": 35,
   "metadata": {},
   "outputs": [
    {
     "name": "stdout",
     "output_type": "stream",
     "text": [
      "488835588.5835735\n"
     ]
    }
   ],
   "source": [
    "from sklearn.metrics import mean_squared_error\n",
    "\n",
    "y_predict = lm.predict(X_test)\n",
    "\n",
    "lr_mse = mean_squared_error(y_predict, y_test)\n",
    "\n",
    "print(lr_mse)"
   ]
  },
  {
   "cell_type": "markdown",
   "metadata": {},
   "source": [
    "# One hot Encode\n"
   ]
  },
  {
   "cell_type": "code",
   "execution_count": 36,
   "metadata": {},
   "outputs": [],
   "source": [
    "#Changing type of temperature column \n",
    "data2['Temperature'] = [x.replace(',', '.') for x in data2['Temperature']]\n",
    "\n",
    "data2['Temperature'] = data2['Temperature'].astype(float)"
   ]
  },
  {
   "cell_type": "code",
   "execution_count": 37,
   "metadata": {},
   "outputs": [
    {
     "data": {
      "text/plain": [
       "Store                    int64\n",
       "Date                    object\n",
       "Temperature            float64\n",
       "Fuel_Price             float64\n",
       "Unemployment           float64\n",
       "IsHoliday_x             object\n",
       "Dept                   float64\n",
       "Weekly_Sales           float64\n",
       "IsHoliday_y             object\n",
       "Type                    object\n",
       "Size                     int64\n",
       "Datetime        datetime64[ns]\n",
       "year                     int64\n",
       "month                    int64\n",
       "monthday                 int64\n",
       "weekday                  int64\n",
       "dtype: object"
      ]
     },
     "execution_count": 37,
     "metadata": {},
     "output_type": "execute_result"
    }
   ],
   "source": [
    "data2.dtypes"
   ]
  },
  {
   "cell_type": "code",
   "execution_count": 38,
   "metadata": {},
   "outputs": [],
   "source": [
    "data2.drop([\"Date\",\"Datetime\"], axis=1, inplace=True)\n"
   ]
  },
  {
   "cell_type": "code",
   "execution_count": 39,
   "metadata": {},
   "outputs": [
    {
     "data": {
      "text/html": [
       "<div>\n",
       "<style scoped>\n",
       "    .dataframe tbody tr th:only-of-type {\n",
       "        vertical-align: middle;\n",
       "    }\n",
       "\n",
       "    .dataframe tbody tr th {\n",
       "        vertical-align: top;\n",
       "    }\n",
       "\n",
       "    .dataframe thead th {\n",
       "        text-align: right;\n",
       "    }\n",
       "</style>\n",
       "<table border=\"1\" class=\"dataframe\">\n",
       "  <thead>\n",
       "    <tr style=\"text-align: right;\">\n",
       "      <th></th>\n",
       "      <th>Store</th>\n",
       "      <th>Temperature</th>\n",
       "      <th>Fuel_Price</th>\n",
       "      <th>Unemployment</th>\n",
       "      <th>IsHoliday_x</th>\n",
       "      <th>Dept</th>\n",
       "      <th>Weekly_Sales</th>\n",
       "      <th>IsHoliday_y</th>\n",
       "      <th>Type</th>\n",
       "      <th>Size</th>\n",
       "      <th>year</th>\n",
       "      <th>month</th>\n",
       "      <th>monthday</th>\n",
       "      <th>weekday</th>\n",
       "    </tr>\n",
       "  </thead>\n",
       "  <tbody>\n",
       "    <tr>\n",
       "      <th>0</th>\n",
       "      <td>1</td>\n",
       "      <td>39.93</td>\n",
       "      <td>2.514</td>\n",
       "      <td>8.106</td>\n",
       "      <td>False</td>\n",
       "      <td>1.0</td>\n",
       "      <td>41595.55</td>\n",
       "      <td>False</td>\n",
       "      <td>A</td>\n",
       "      <td>151315</td>\n",
       "      <td>2010</td>\n",
       "      <td>2</td>\n",
       "      <td>19</td>\n",
       "      <td>4</td>\n",
       "    </tr>\n",
       "    <tr>\n",
       "      <th>1</th>\n",
       "      <td>1</td>\n",
       "      <td>39.93</td>\n",
       "      <td>2.514</td>\n",
       "      <td>8.106</td>\n",
       "      <td>False</td>\n",
       "      <td>2.0</td>\n",
       "      <td>47928.89</td>\n",
       "      <td>False</td>\n",
       "      <td>A</td>\n",
       "      <td>151315</td>\n",
       "      <td>2010</td>\n",
       "      <td>2</td>\n",
       "      <td>19</td>\n",
       "      <td>4</td>\n",
       "    </tr>\n",
       "    <tr>\n",
       "      <th>2</th>\n",
       "      <td>1</td>\n",
       "      <td>39.93</td>\n",
       "      <td>2.514</td>\n",
       "      <td>8.106</td>\n",
       "      <td>False</td>\n",
       "      <td>3.0</td>\n",
       "      <td>11523.47</td>\n",
       "      <td>False</td>\n",
       "      <td>A</td>\n",
       "      <td>151315</td>\n",
       "      <td>2010</td>\n",
       "      <td>2</td>\n",
       "      <td>19</td>\n",
       "      <td>4</td>\n",
       "    </tr>\n",
       "    <tr>\n",
       "      <th>3</th>\n",
       "      <td>1</td>\n",
       "      <td>39.93</td>\n",
       "      <td>2.514</td>\n",
       "      <td>8.106</td>\n",
       "      <td>False</td>\n",
       "      <td>4.0</td>\n",
       "      <td>36826.95</td>\n",
       "      <td>False</td>\n",
       "      <td>A</td>\n",
       "      <td>151315</td>\n",
       "      <td>2010</td>\n",
       "      <td>2</td>\n",
       "      <td>19</td>\n",
       "      <td>4</td>\n",
       "    </tr>\n",
       "    <tr>\n",
       "      <th>4</th>\n",
       "      <td>1</td>\n",
       "      <td>39.93</td>\n",
       "      <td>2.514</td>\n",
       "      <td>8.106</td>\n",
       "      <td>False</td>\n",
       "      <td>5.0</td>\n",
       "      <td>26468.27</td>\n",
       "      <td>False</td>\n",
       "      <td>A</td>\n",
       "      <td>151315</td>\n",
       "      <td>2010</td>\n",
       "      <td>2</td>\n",
       "      <td>19</td>\n",
       "      <td>4</td>\n",
       "    </tr>\n",
       "    <tr>\n",
       "      <th>5</th>\n",
       "      <td>1</td>\n",
       "      <td>39.93</td>\n",
       "      <td>2.514</td>\n",
       "      <td>8.106</td>\n",
       "      <td>False</td>\n",
       "      <td>6.0</td>\n",
       "      <td>6060.26</td>\n",
       "      <td>False</td>\n",
       "      <td>A</td>\n",
       "      <td>151315</td>\n",
       "      <td>2010</td>\n",
       "      <td>2</td>\n",
       "      <td>19</td>\n",
       "      <td>4</td>\n",
       "    </tr>\n",
       "    <tr>\n",
       "      <th>6</th>\n",
       "      <td>1</td>\n",
       "      <td>39.93</td>\n",
       "      <td>2.514</td>\n",
       "      <td>8.106</td>\n",
       "      <td>False</td>\n",
       "      <td>7.0</td>\n",
       "      <td>19985.20</td>\n",
       "      <td>False</td>\n",
       "      <td>A</td>\n",
       "      <td>151315</td>\n",
       "      <td>2010</td>\n",
       "      <td>2</td>\n",
       "      <td>19</td>\n",
       "      <td>4</td>\n",
       "    </tr>\n",
       "    <tr>\n",
       "      <th>7</th>\n",
       "      <td>1</td>\n",
       "      <td>39.93</td>\n",
       "      <td>2.514</td>\n",
       "      <td>8.106</td>\n",
       "      <td>False</td>\n",
       "      <td>8.0</td>\n",
       "      <td>38717.60</td>\n",
       "      <td>False</td>\n",
       "      <td>A</td>\n",
       "      <td>151315</td>\n",
       "      <td>2010</td>\n",
       "      <td>2</td>\n",
       "      <td>19</td>\n",
       "      <td>4</td>\n",
       "    </tr>\n",
       "    <tr>\n",
       "      <th>8</th>\n",
       "      <td>1</td>\n",
       "      <td>39.93</td>\n",
       "      <td>2.514</td>\n",
       "      <td>8.106</td>\n",
       "      <td>False</td>\n",
       "      <td>9.0</td>\n",
       "      <td>15880.85</td>\n",
       "      <td>False</td>\n",
       "      <td>A</td>\n",
       "      <td>151315</td>\n",
       "      <td>2010</td>\n",
       "      <td>2</td>\n",
       "      <td>19</td>\n",
       "      <td>4</td>\n",
       "    </tr>\n",
       "    <tr>\n",
       "      <th>9</th>\n",
       "      <td>1</td>\n",
       "      <td>39.93</td>\n",
       "      <td>2.514</td>\n",
       "      <td>8.106</td>\n",
       "      <td>False</td>\n",
       "      <td>10.0</td>\n",
       "      <td>29634.13</td>\n",
       "      <td>False</td>\n",
       "      <td>A</td>\n",
       "      <td>151315</td>\n",
       "      <td>2010</td>\n",
       "      <td>2</td>\n",
       "      <td>19</td>\n",
       "      <td>4</td>\n",
       "    </tr>\n",
       "  </tbody>\n",
       "</table>\n",
       "</div>"
      ],
      "text/plain": [
       "   Store  Temperature  Fuel_Price  Unemployment IsHoliday_x  Dept  \\\n",
       "0      1        39.93       2.514         8.106       False   1.0   \n",
       "1      1        39.93       2.514         8.106       False   2.0   \n",
       "2      1        39.93       2.514         8.106       False   3.0   \n",
       "3      1        39.93       2.514         8.106       False   4.0   \n",
       "4      1        39.93       2.514         8.106       False   5.0   \n",
       "5      1        39.93       2.514         8.106       False   6.0   \n",
       "6      1        39.93       2.514         8.106       False   7.0   \n",
       "7      1        39.93       2.514         8.106       False   8.0   \n",
       "8      1        39.93       2.514         8.106       False   9.0   \n",
       "9      1        39.93       2.514         8.106       False  10.0   \n",
       "\n",
       "   Weekly_Sales IsHoliday_y Type    Size  year  month  monthday  weekday  \n",
       "0      41595.55       False    A  151315  2010      2        19        4  \n",
       "1      47928.89       False    A  151315  2010      2        19        4  \n",
       "2      11523.47       False    A  151315  2010      2        19        4  \n",
       "3      36826.95       False    A  151315  2010      2        19        4  \n",
       "4      26468.27       False    A  151315  2010      2        19        4  \n",
       "5       6060.26       False    A  151315  2010      2        19        4  \n",
       "6      19985.20       False    A  151315  2010      2        19        4  \n",
       "7      38717.60       False    A  151315  2010      2        19        4  \n",
       "8      15880.85       False    A  151315  2010      2        19        4  \n",
       "9      29634.13       False    A  151315  2010      2        19        4  "
      ]
     },
     "execution_count": 39,
     "metadata": {},
     "output_type": "execute_result"
    }
   ],
   "source": [
    "data2.head(10)"
   ]
  },
  {
   "cell_type": "code",
   "execution_count": 40,
   "metadata": {},
   "outputs": [],
   "source": [
    "# get target attribute\n",
    "target = data2[\"Weekly_Sales\"]\n",
    "# remove target attribute from the dataframe\n",
    "data2.drop([\"Weekly_Sales\"], axis=1, inplace=True)"
   ]
  },
  {
   "cell_type": "code",
   "execution_count": 41,
   "metadata": {},
   "outputs": [
    {
     "data": {
      "text/html": [
       "<div>\n",
       "<style scoped>\n",
       "    .dataframe tbody tr th:only-of-type {\n",
       "        vertical-align: middle;\n",
       "    }\n",
       "\n",
       "    .dataframe tbody tr th {\n",
       "        vertical-align: top;\n",
       "    }\n",
       "\n",
       "    .dataframe thead th {\n",
       "        text-align: right;\n",
       "    }\n",
       "</style>\n",
       "<table border=\"1\" class=\"dataframe\">\n",
       "  <thead>\n",
       "    <tr style=\"text-align: right;\">\n",
       "      <th></th>\n",
       "      <th>IsHoliday_x</th>\n",
       "      <th>IsHoliday_y</th>\n",
       "      <th>Type</th>\n",
       "    </tr>\n",
       "  </thead>\n",
       "  <tbody>\n",
       "    <tr>\n",
       "      <th>0</th>\n",
       "      <td>False</td>\n",
       "      <td>False</td>\n",
       "      <td>A</td>\n",
       "    </tr>\n",
       "    <tr>\n",
       "      <th>1</th>\n",
       "      <td>False</td>\n",
       "      <td>False</td>\n",
       "      <td>A</td>\n",
       "    </tr>\n",
       "    <tr>\n",
       "      <th>2</th>\n",
       "      <td>False</td>\n",
       "      <td>False</td>\n",
       "      <td>A</td>\n",
       "    </tr>\n",
       "    <tr>\n",
       "      <th>3</th>\n",
       "      <td>False</td>\n",
       "      <td>False</td>\n",
       "      <td>A</td>\n",
       "    </tr>\n",
       "    <tr>\n",
       "      <th>4</th>\n",
       "      <td>False</td>\n",
       "      <td>False</td>\n",
       "      <td>A</td>\n",
       "    </tr>\n",
       "  </tbody>\n",
       "</table>\n",
       "</div>"
      ],
      "text/plain": [
       "  IsHoliday_x IsHoliday_y Type\n",
       "0       False       False    A\n",
       "1       False       False    A\n",
       "2       False       False    A\n",
       "3       False       False    A\n",
       "4       False       False    A"
      ]
     },
     "execution_count": 41,
     "metadata": {},
     "output_type": "execute_result"
    }
   ],
   "source": [
    "# select object type columns as a dataframe\n",
    "data2_obj = data2.select_dtypes(include='object')\n",
    "\n",
    "# let's remove those attributes from the main df\n",
    "data2.drop(list(data2_obj.columns), axis=1, inplace=True)\n",
    "\n",
    "# resulting object dtyped dataframe\n",
    "data2_obj.head()"
   ]
  },
  {
   "cell_type": "code",
   "execution_count": 42,
   "metadata": {},
   "outputs": [
    {
     "data": {
      "text/html": [
       "<div>\n",
       "<style scoped>\n",
       "    .dataframe tbody tr th:only-of-type {\n",
       "        vertical-align: middle;\n",
       "    }\n",
       "\n",
       "    .dataframe tbody tr th {\n",
       "        vertical-align: top;\n",
       "    }\n",
       "\n",
       "    .dataframe thead th {\n",
       "        text-align: right;\n",
       "    }\n",
       "</style>\n",
       "<table border=\"1\" class=\"dataframe\">\n",
       "  <thead>\n",
       "    <tr style=\"text-align: right;\">\n",
       "      <th></th>\n",
       "      <th>IsHoliday_x_False</th>\n",
       "      <th>IsHoliday_x_True</th>\n",
       "      <th>IsHoliday_y_False</th>\n",
       "      <th>IsHoliday_y_True</th>\n",
       "      <th>Type_A</th>\n",
       "      <th>Type_B</th>\n",
       "      <th>Type_C</th>\n",
       "    </tr>\n",
       "  </thead>\n",
       "  <tbody>\n",
       "    <tr>\n",
       "      <th>0</th>\n",
       "      <td>1</td>\n",
       "      <td>0</td>\n",
       "      <td>1</td>\n",
       "      <td>0</td>\n",
       "      <td>1</td>\n",
       "      <td>0</td>\n",
       "      <td>0</td>\n",
       "    </tr>\n",
       "    <tr>\n",
       "      <th>1</th>\n",
       "      <td>1</td>\n",
       "      <td>0</td>\n",
       "      <td>1</td>\n",
       "      <td>0</td>\n",
       "      <td>1</td>\n",
       "      <td>0</td>\n",
       "      <td>0</td>\n",
       "    </tr>\n",
       "    <tr>\n",
       "      <th>2</th>\n",
       "      <td>1</td>\n",
       "      <td>0</td>\n",
       "      <td>1</td>\n",
       "      <td>0</td>\n",
       "      <td>1</td>\n",
       "      <td>0</td>\n",
       "      <td>0</td>\n",
       "    </tr>\n",
       "    <tr>\n",
       "      <th>3</th>\n",
       "      <td>1</td>\n",
       "      <td>0</td>\n",
       "      <td>1</td>\n",
       "      <td>0</td>\n",
       "      <td>1</td>\n",
       "      <td>0</td>\n",
       "      <td>0</td>\n",
       "    </tr>\n",
       "    <tr>\n",
       "      <th>4</th>\n",
       "      <td>1</td>\n",
       "      <td>0</td>\n",
       "      <td>1</td>\n",
       "      <td>0</td>\n",
       "      <td>1</td>\n",
       "      <td>0</td>\n",
       "      <td>0</td>\n",
       "    </tr>\n",
       "  </tbody>\n",
       "</table>\n",
       "</div>"
      ],
      "text/plain": [
       "   IsHoliday_x_False  IsHoliday_x_True  IsHoliday_y_False  IsHoliday_y_True  \\\n",
       "0                  1                 0                  1                 0   \n",
       "1                  1                 0                  1                 0   \n",
       "2                  1                 0                  1                 0   \n",
       "3                  1                 0                  1                 0   \n",
       "4                  1                 0                  1                 0   \n",
       "\n",
       "   Type_A  Type_B  Type_C  \n",
       "0       1       0       0  \n",
       "1       1       0       0  \n",
       "2       1       0       0  \n",
       "3       1       0       0  \n",
       "4       1       0       0  "
      ]
     },
     "execution_count": 42,
     "metadata": {},
     "output_type": "execute_result"
    }
   ],
   "source": [
    "# get one-hot encoded representation of the categorical attributes\n",
    "onehot_encoded = pd.get_dummies(data2_obj)\n",
    "\n",
    "onehot_encoded.head()"
   ]
  },
  {
   "cell_type": "code",
   "execution_count": 43,
   "metadata": {},
   "outputs": [],
   "source": [
    "# merge onehot encoded dataframe and the original one\n",
    "onehot_data2 = pd.concat([data2, onehot_encoded], axis=1)\n",
    "\n",
    "onehot_data2.tail(10)\n",
    "\n",
    "X = onehot_data2.drop(['year'],axis=1) # this the our feature set for estımating weekly 'sales'\n",
    "Y= target # target Future\n"
   ]
  },
  {
   "cell_type": "markdown",
   "metadata": {},
   "source": [
    "## Applying Machine Learning Models\n",
    "### 1- Decision Tree"
   ]
  },
  {
   "cell_type": "code",
   "execution_count": 44,
   "metadata": {},
   "outputs": [],
   "source": [
    "# dividing the dataset\n",
    "X_train, X_test, y_train, y_test = train_test_split(X, Y, test_size=0.33, random_state=42)"
   ]
  },
  {
   "cell_type": "code",
   "execution_count": 45,
   "metadata": {},
   "outputs": [],
   "source": [
    "# create the model\n",
    "from sklearn import tree\n",
    "\n",
    "dt_model = tree.DecisionTreeRegressor()\n",
    "\n",
    "\n"
   ]
  },
  {
   "cell_type": "code",
   "execution_count": 46,
   "metadata": {},
   "outputs": [
    {
     "data": {
      "text/plain": [
       "DecisionTreeRegressor(criterion='mse', max_depth=None, max_features=None,\n",
       "           max_leaf_nodes=None, min_impurity_decrease=0.0,\n",
       "           min_impurity_split=None, min_samples_leaf=1,\n",
       "           min_samples_split=2, min_weight_fraction_leaf=0.0,\n",
       "           presort=False, random_state=None, splitter='best')"
      ]
     },
     "execution_count": 46,
     "metadata": {},
     "output_type": "execute_result"
    }
   ],
   "source": [
    "# training the model\n",
    "dt_model.fit(X_train, y_train)\n"
   ]
  },
  {
   "cell_type": "code",
   "execution_count": 47,
   "metadata": {},
   "outputs": [
    {
     "name": "stdout",
     "output_type": "stream",
     "text": [
      "First Ten Predicted Weekly Sales: [ 2530.5   6131.15 12369.    4428.89   116.16 32025.01  9363.     150.73\n",
      "  4343.88  3591.3 ]\n",
      "First Ten Actual Weekly Sales: [ 3407.5   3679.02 19669.06  4454.74    91.7  31541.73 13591.15   157.75\n",
      "  4099.37  3393.82]\n"
     ]
    }
   ],
   "source": [
    "dt_pred = dt_model.predict(X_test)\n",
    "print(\"First Ten Predicted Weekly Sales:\",dt_pred[:10])\n",
    "print(\"First Ten Actual Weekly Sales:\",np.array(y_test[:10]))"
   ]
  },
  {
   "cell_type": "markdown",
   "metadata": {},
   "source": [
    "### We use Root mean Squared Error as a Performance Metric"
   ]
  },
  {
   "cell_type": "code",
   "execution_count": 48,
   "metadata": {},
   "outputs": [
    {
     "name": "stdout",
     "output_type": "stream",
     "text": [
      "Root Mean Square Error of Decision Tree Model: 5645.855715358318\n"
     ]
    }
   ],
   "source": [
    "from sklearn.metrics import mean_squared_error\n",
    "from math import sqrt\n",
    "\n",
    "print(\"Root Mean Square Error of Decision Tree Model:\", sqrt(mean_squared_error(y_test, dt_pred)))\n",
    "\n"
   ]
  },
  {
   "cell_type": "code",
   "execution_count": 49,
   "metadata": {},
   "outputs": [
    {
     "data": {
      "text/plain": [
       "array([6.16871721e-02, 1.54011323e-02, 7.82691063e-03, 1.75091571e-02,\n",
       "       6.12168620e-01, 2.17586855e-01, 2.17774080e-02, 2.48173892e-02,\n",
       "       1.55926506e-03, 4.01242966e-04, 3.03566494e-03, 3.77457053e-04,\n",
       "       2.04357832e-03, 3.05083576e-03, 1.00597965e-02, 6.97514952e-04])"
      ]
     },
     "execution_count": 49,
     "metadata": {},
     "output_type": "execute_result"
    }
   ],
   "source": [
    "dt_model.feature_importances_  # resulting feature importances"
   ]
  },
  {
   "cell_type": "code",
   "execution_count": 50,
   "metadata": {},
   "outputs": [],
   "source": [
    "tree.export_graphviz(dt_model,out_file='tree.dot')  "
   ]
  },
  {
   "cell_type": "code",
   "execution_count": 51,
   "metadata": {},
   "outputs": [
    {
     "name": "stdout",
     "output_type": "stream",
     "text": [
      "Requirement already satisfied: pydot in /anaconda3/lib/python3.6/site-packages (1.4.1)\n",
      "Requirement already satisfied: pyparsing>=2.1.4 in /anaconda3/lib/python3.6/site-packages (from pydot) (2.2.0)\n",
      "\u001b[33mYou are using pip version 19.0.3, however version 19.1.1 is available.\n",
      "You should consider upgrading via the 'pip install --upgrade pip' command.\u001b[0m\n"
     ]
    }
   ],
   "source": [
    "!pip install \"pydot\"\n"
   ]
  },
  {
   "cell_type": "markdown",
   "metadata": {},
   "source": [
    "### Applying Knn Regressor"
   ]
  },
  {
   "cell_type": "code",
   "execution_count": 52,
   "metadata": {},
   "outputs": [],
   "source": [
    "\n",
    "from sklearn.neighbors import KNeighborsRegressor\n"
   ]
  },
  {
   "cell_type": "code",
   "execution_count": 53,
   "metadata": {},
   "outputs": [
    {
     "name": "stdout",
     "output_type": "stream",
     "text": [
      "RMSE value for k=  1 is: 24861.536899271305\n",
      "RMSE value for k=  2 is: 20473.21658556146\n",
      "RMSE value for k=  3 is: 18749.459000324245\n",
      "RMSE value for k=  4 is: 17944.080617464155\n",
      "RMSE value for k=  5 is: 17485.930555204635\n",
      "RMSE value for k=  6 is: 17239.044142505896\n",
      "RMSE value for k=  7 is: 17079.867887274846\n",
      "RMSE value for k=  8 is: 17003.657393666646\n",
      "RMSE value for k=  9 is: 16944.06171801722\n",
      "RMSE value for k=  10 is: 16882.906959317694\n",
      "RMSE value for k=  11 is: 16852.52218462779\n",
      "RMSE value for k=  12 is: 16837.91354246496\n",
      "RMSE value for k=  13 is: 16820.92120495219\n",
      "RMSE value for k=  14 is: 16824.0984690098\n",
      "RMSE value for k=  15 is: 16828.249897484315\n",
      "RMSE value for k=  16 is: 16844.53622763688\n",
      "RMSE value for k=  17 is: 16859.41290797706\n",
      "RMSE value for k=  18 is: 16864.088950752994\n",
      "RMSE value for k=  19 is: 16878.58609100768\n",
      "RMSE value for k=  20 is: 16892.31039589237\n"
     ]
    }
   ],
   "source": [
    "rmse_val = [] #to store rmse values for different k\n",
    "for K in range(20):\n",
    "    K = K+1\n",
    "    KNNmodel = KNeighborsRegressor(n_neighbors = K)\n",
    "\n",
    "    KNNmodel.fit(X_train, y_train)  #fit the model\n",
    "    pred=KNNmodel.predict(X_test) #make prediction on test set\n",
    "    error = sqrt(mean_squared_error(y_test,pred)) #calculate rmse\n",
    "    rmse_val.append(error) #store rmse values\n",
    "    print('RMSE value for k= ' , K , 'is:', error)"
   ]
  },
  {
   "cell_type": "code",
   "execution_count": 54,
   "metadata": {},
   "outputs": [
    {
     "data": {
      "image/png": "[encoded data removed]",
      "text/plain": [
       "<Figure size 864x432 with 1 Axes>"
      ]
     },
     "metadata": {},
     "output_type": "display_data"
    }
   ],
   "source": [
    "plt.figure(figsize=(12, 6))  \n",
    "plt.plot(range(1, 21), rmse_val, color='black', linestyle='dashed', marker='o',  markerfacecolor='red', markersize=10)\n",
    "plt.title('Accuracy of the Model w/ k-Value')  \n",
    "plt.xlabel('k-Value')  \n",
    "plt.ylabel('Accuracy') \n",
    "plt.show()"
   ]
  },
  {
   "cell_type": "code",
   "execution_count": 55,
   "metadata": {},
   "outputs": [],
   "source": [
    "### Now we are going to normalize our data in order to boost the accuracy of Knn but we are onlly apply this for k= 13"
   ]
  },
  {
   "cell_type": "code",
   "execution_count": 56,
   "metadata": {},
   "outputs": [
    {
     "data": {
      "text/plain": [
       "0    41595.55\n",
       "1    47928.89\n",
       "2    11523.47\n",
       "3    36826.95\n",
       "4    26468.27\n",
       "5     6060.26\n",
       "6    19985.20\n",
       "7    38717.60\n",
       "8    15880.85\n",
       "9    29634.13\n",
       "Name: Weekly_Sales, dtype: float64"
      ]
     },
     "execution_count": 56,
     "metadata": {},
     "output_type": "execute_result"
    }
   ],
   "source": [
    "X_norm = (X-X.mean()) / X.std()\n",
    "Y= target # target Future\n",
    "\n",
    "\n",
    "Y.head(10)"
   ]
  },
  {
   "cell_type": "code",
   "execution_count": 57,
   "metadata": {},
   "outputs": [],
   "source": [
    "X_train, X_test, y_train, y_test = train_test_split(X_norm, Y, test_size= 0.25, random_state = 42)\n"
   ]
  },
  {
   "cell_type": "code",
   "execution_count": 58,
   "metadata": {},
   "outputs": [
    {
     "name": "stdout",
     "output_type": "stream",
     "text": [
      "RMSE value for k=  1 is: 25607.212191204577\n",
      "RMSE value for k=  2 is: 21594.671955955942\n",
      "RMSE value for k=  3 is: 20368.430119360917\n",
      "RMSE value for k=  4 is: 19942.31098588376\n",
      "RMSE value for k=  5 is: 19881.603887861565\n",
      "RMSE value for k=  6 is: 19883.751998989195\n",
      "RMSE value for k=  7 is: 19893.151392891716\n",
      "RMSE value for k=  8 is: 19886.554831238285\n",
      "RMSE value for k=  9 is: 19882.15445249255\n",
      "RMSE value for k=  10 is: 19836.95229108255\n",
      "RMSE value for k=  11 is: 19754.571943552837\n",
      "RMSE value for k=  12 is: 19652.782381491863\n",
      "RMSE value for k=  13 is: 19540.607581405216\n",
      "RMSE value for k=  14 is: 19433.512128480506\n",
      "RMSE value for k=  15 is: 19346.041683106294\n",
      "RMSE value for k=  16 is: 19286.77797986929\n",
      "RMSE value for k=  17 is: 19246.477183992825\n",
      "RMSE value for k=  18 is: 19241.481116149873\n",
      "RMSE value for k=  19 is: 19250.748771307357\n",
      "RMSE value for k=  20 is: 19264.023392567\n"
     ]
    }
   ],
   "source": [
    "rmse_val = [] #to store rmse values for different k\n",
    "for K in range(20):\n",
    "    K = K+1\n",
    "    KNNmodel = KNeighborsRegressor(n_neighbors = K)\n",
    "\n",
    "    KNNmodel.fit(X_train, y_train)  #fit the model\n",
    "    pred=KNNmodel.predict(X_test) #make prediction on test set\n",
    "    error = sqrt(mean_squared_error(y_test,pred)) #calculate rmse\n",
    "    rmse_val.append(error) #store rmse values\n",
    "    print('RMSE value for k= ' , K , 'is:', error)"
   ]
  },
  {
   "cell_type": "code",
   "execution_count": 59,
   "metadata": {},
   "outputs": [
    {
     "data": {
      "image/png": "[encoded data removed]",
      "text/plain": [
       "<Figure size 864x432 with 1 Axes>"
      ]
     },
     "metadata": {},
     "output_type": "display_data"
    }
   ],
   "source": [
    "plt.figure(figsize=(12, 6))  \n",
    "plt.plot(range(1, 21), rmse_val, color='black', linestyle='dashed', marker='o',  markerfacecolor='red', markersize=10)\n",
    "plt.title('Accuracy of the Model w/ k-Value')  \n",
    "plt.xlabel('k-Value')  \n",
    "plt.ylabel('Accuracy') \n",
    "plt.show()"
   ]
  },
  {
   "cell_type": "code",
   "execution_count": null,
   "metadata": {},
   "outputs": [],
   "source": []
  }
 ],
 "metadata": {
  "kernelspec": {
   "display_name": "Python 3",
   "language": "python",
   "name": "python3"
  }
 },
 "nbformat": 4,
 "nbformat_minor": 2
}
